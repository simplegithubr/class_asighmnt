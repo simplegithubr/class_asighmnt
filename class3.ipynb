{
  "nbformat": 4,
  "nbformat_minor": 0,
  "metadata": {
    "colab": {
      "provenance": [],
      "authorship_tag": "ABX9TyNi/MBfv4b7KurX83fUCvW8",
      "include_colab_link": true
    },
    "kernelspec": {
      "name": "python3",
      "display_name": "Python 3"
    },
    "language_info": {
      "name": "python"
    }
  },
  "cells": [
    {
      "cell_type": "markdown",
      "metadata": {
        "id": "view-in-github",
        "colab_type": "text"
      },
      "source": [
        "<a href=\"https://colab.research.google.com/github/simplegithubr/class_asighmnt/blob/main/class3.ipynb\" target=\"_parent\"><img src=\"https://colab.research.google.com/assets/colab-badge.svg\" alt=\"Open In Colab\"/></a>"
      ]
    },
    {
      "cell_type": "code",
      "execution_count": null,
      "metadata": {
        "colab": {
          "base_uri": "https://localhost:8080/"
        },
        "id": "PynetfJnkGD2",
        "outputId": "5ed71b10-f5cf-4470-95c2-883c9f52e519"
      },
      "outputs": [
        {
          "output_type": "stream",
          "name": "stdout",
          "text": [
            "Enter Student Name:kinza\n",
            "Enter Roll Number: 121767\n",
            "Enter marks for Math: 55\n",
            "Enter marks for Physics: 77\n",
            "Enter marks for Urdu: 89\n",
            "Enter marks for English: 67\n",
            "Enter marks for Computer: 78\n",
            "Record inserted sucssfully. Do You want to insert more? (Y/N):y\n",
            "Enter Student Name:sagar\n",
            "Enter Roll Number: 125784\n",
            "Enter marks for Math: 77\n",
            "Enter marks for Physics: 65\n",
            "Enter marks for Urdu: 67\n",
            "Enter marks for English: 77\n",
            "Enter marks for Computer: 87\n",
            "Record inserted sucssfully. Do You want to insert more? (Y/N):n\n",
            "\n",
            "------------------------\n",
            "     Student Report Cards \n",
            "--------------------------\n",
            "\n",
            "Name: kinza\n",
            "Roll Number: 121767\n",
            "Math: 55\n",
            "Physics: 77\n",
            "Urdu: 89\n",
            "English: 67\n",
            "Computer: 78\n",
            "Total Marks: 366/500\n",
            "Percentage: 73.20%\n",
            "Grade: A\n",
            "--------------------------------\n",
            "\n",
            "Name: sagar\n",
            "Roll Number: 125784\n",
            "Math: 77\n",
            "Physics: 65\n",
            "Urdu: 67\n",
            "English: 77\n",
            "Computer: 87\n",
            "Total Marks: 373/500\n",
            "Percentage: 74.60%\n",
            "Grade: A\n",
            "--------------------------------\n"
          ]
        }
      ],
      "source": [
        "students = []\n",
        "\n",
        "def input_student_data():\n",
        "    while True:\n",
        "        student = {}\n",
        "        student['name']=input(\"Enter Student Name:\")\n",
        "        student['roll_number'] = input(\"Enter Roll Number: \")\n",
        "        subjects = ['Math', 'Physics', 'Urdu', 'English', 'Computer']\n",
        "        marks = {}\n",
        "        for subject in subjects:\n",
        "            while True:\n",
        "                try:\n",
        "                   marks[subject]= int(input(f\"Enter marks for {subject}: \"))\n",
        "                   break\n",
        "                except ValueError:\n",
        "                     print(\"Invalid input! Please enter numeric marks.\")\n",
        "\n",
        "\n",
        "        student['marks'] = marks\n",
        "        students.append(student)\n",
        "\n",
        "\n",
        "        more = input(\"Record inserted sucssfully. Do You want to insert more? (Y/N):\").strip().upper()\n",
        "        if more != 'Y':\n",
        "            break\n",
        "\n",
        "\n",
        "\n",
        "def generate_report_cards():\n",
        "    print(\"\\n------------------------\")\n",
        "    print(\"     Student Report Cards \")\n",
        "    print(\"--------------------------\")\n",
        "    for student in students:\n",
        "        marks = student['marks']\n",
        "        total_marks = sum(marks.values())\n",
        "        percentage = (total_marks / 500) * 100\n",
        "\n",
        "        if percentage >= 80:\n",
        "           grade = \"A+\"\n",
        "        elif percentage >= 70:\n",
        "           grade = \"A\"\n",
        "\n",
        "        elif percentage >= 60:\n",
        "           grade = \"B\"\n",
        "\n",
        "        elif percentage >= 50:\n",
        "           grade = \"C\"\n",
        "        elif percentage >= 40:\n",
        "           grade = \"D\"\n",
        "        else:\n",
        "          grade = \"F\"\n",
        "\n",
        "        print(f\"\\nName: {student['name']}\")\n",
        "        print(f\"Roll Number: {student['roll_number']}\")\n",
        "        for subject, mark in marks.items():\n",
        "            print(f\"{subject}: {mark}\")\n",
        "        print(f\"Total Marks: {total_marks}/500\")\n",
        "        print(f\"Percentage: {percentage:.2f}%\")\n",
        "        print(f\"Grade: {grade}\")\n",
        "        print(\"--------------------------------\")\n",
        "\n",
        "input_student_data()\n",
        "generate_report_cards()"
      ]
    }
  ]
}